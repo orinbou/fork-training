{
 "cells": [
  {
   "cell_type": "code",
   "execution_count": null,
   "id": "713b9586",
   "metadata": {},
   "outputs": [],
   "source": [
    "pip install numpy pandas matplotlib seaborn scikit-learn"
   ]
  },
  {
   "cell_type": "code",
   "execution_count": null,
   "metadata": {},
   "outputs": [],
   "source": [
    "import numpy as np\n",
    "import matplotlib.pyplot as plt\n",
    "\n",
    "def mandelbrot(c, max_iter):\n",
    "    z = 0\n",
    "    for n in range(max_iter):\n",
    "        z = z*z + c\n",
    "        if abs(z) > 2:\n",
    "            return n\n",
    "    return max_iter\n",
    "\n",
    "width, height = 512, 512\n",
    "max_iter = 256\n",
    "\n",
    "x, y = np.linspace(-2, 1, width), np.linspace(-1.5, 1.5, height)\n",
    "c = x[np.newaxis, :] + y[:, np.newaxis] * 1j\n",
    "\n",
    "mandelbrot_set = np.vectorize(mandelbrot)(c, max_iter)\n",
    "\n",
    "plt.figure(figsize=(12, 12))\n",
    "plt.imshow(mandelbrot_set, extent=[-2, 1, -1.5, 1.5], cmap='viridis')\n",
    "plt.xlabel(\"Re(c)\")\n",
    "plt.ylabel(\"Im(c)\")\n",
    "plt.title(\"Mandelbrot Set\")\n",
    "plt.colorbar()\n",
    "plt.show()"
   ]
  }
 ],
 "metadata": {
  "kernelspec": {
   "display_name": ".venv",
   "language": "python",
   "name": "python3"
  },
  "language_info": {
   "codemirror_mode": {
    "name": "ipython",
    "version": 3
   },
   "file_extension": ".py",
   "mimetype": "text/x-python",
   "name": "python",
   "nbconvert_exporter": "python",
   "pygments_lexer": "ipython3",
   "version": "3.13.3"
  }
 },
 "nbformat": 4,
 "nbformat_minor": 5
}
